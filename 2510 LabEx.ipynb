{
 "cells": [
  {
   "cell_type": "markdown",
   "metadata": {},
   "source": [
    "# Lab Exercise [30 Marks]\n",
    "\n",
    "### <font color='red'>Deadline: 15<sup>th</sup> June 2025 (Sunday), 11.59pm.</font>"
   ]
  },
  {
   "cell_type": "markdown",
   "metadata": {},
   "source": [
    "## Submission Instructions\n",
    "\n",
    "- Download and rename this notebook according to your group number, e.g.: `LabEx_GXX.ipynb`.\n",
    "- Fill in all group members' details in the following Markdown cell.\n",
    "- Fill in every group member's contribution in percentage, with the total 100%. All the members MUST AGREE to the percentages before submission. For example, the group members agree to give 0% contribution to the sleeping group member. \n",
    "- Not all group members in the same group will get the same mark. Your mark is depending on your contribution to the group work.\n",
    "- Complete all the questions. Fill in your ANSWERS IN THIS NOTEBOOK. Do not change/delete provided cells.\n",
    "- Submit this <b> .ipynb file </b> according to your registered group  in EbWise . Name your submission file as `LabEx_GXX.ipynb`.\n",
    "\n",
    "\n",
    "## Penalties\n",
    "- For submission that does not conform to <i> Submission Instructions </i>, <b> 5 marks will be deducted </b>. \n",
    "- For submission <i> after the Deadline </i>, late submission penalty is applied with a deduction of <b> 5 marks per hour </b>."
   ]
  },
  {
   "cell_type": "markdown",
   "metadata": {},
   "source": [
    "#### Group##\n",
    "\n",
    "**Tutorial section: TT_L**\n",
    "\n",
    "\n",
    "| | Student ID     | Student Name                | Contribution | \n",
    "|--:|:-------------|:----------------------------|-------------:|\n",
    "| 1 | Student_ID1  | Student_Name1               | 30%          | \n",
    "| 2 | Student_ID2  | Student_Name1               | 20%          | \n",
    "| 3 | Student_ID3  | Student_Name1               | 10%          | \n",
    "| 4 | Student_ID4  | Student_Name1               | 40%          | \n"
   ]
  },
  {
   "cell_type": "markdown",
   "metadata": {},
   "source": [
    "## Import Libraries"
   ]
  },
  {
   "cell_type": "code",
   "execution_count": 1,
   "metadata": {},
   "outputs": [],
   "source": [
    "import pandas as pd                               # For dataframes\n",
    "import matplotlib.pyplot as plt                   # For plotting data\n",
    "import seaborn as sns                             # For plotting data\n",
    "import numpy as np"
   ]
  },
  {
   "cell_type": "markdown",
   "metadata": {
    "tags": []
   },
   "source": [
    "## Question 1 [14 mark]\n",
    "The dataset can be downloaded from https://data.gov.my/data-catalogue\n",
    "\n",
    "### Complete the tasks below:\n",
    "1. Import and prepare the `crime_district` dataset. Display the first and the last 5 rows of the dataset. 2m\n",
    "\n",
    "1. Answer the following questions for crime between 2016-2023 in Malaysia using visuals (charts,graphs, etc): 6m\n",
    "    * Which `state` has the most number of crime? \n",
    "    * Which `district` in the state from the previous question has the highest number of crime? \n",
    "    * What `year` from the dataset has the highest number of crime in Malaysia? \n",
    "1. Plot a line graph to show the number and type of crime of each `state`. 4m\n",
    "1. Discuss and explain your observation. 2m\n"
   ]
  },
  {
   "cell_type": "markdown",
   "metadata": {},
   "source": [
    "### Load and Prepare Data: 2m"
   ]
  },
  {
   "cell_type": "code",
   "execution_count": null,
   "metadata": {},
   "outputs": [],
   "source": [
    "df = pd.read_csv('crime_district.csv')\n",
    "print(\"First 5 row of the dataset:\")\n",
    "display(df.head())\n",
    "print(\"Last 5 row of the dataset:\")\n",
    "display(df.tail())"
   ]
  },
  {
   "cell_type": "markdown",
   "metadata": {},
   "source": [
    "### Using Visual Tools: 6m\n",
    "#### Which `state` has the most number of crime?"
   ]
  },
  {
   "cell_type": "code",
   "execution_count": null,
   "metadata": {},
   "outputs": [
    {
     "ename": "",
     "evalue": "",
     "output_type": "error",
     "traceback": [
      "\u001b[1;31mRunning cells with 'Python 3.12.7' requires the ipykernel package.\n",
      "\u001b[1;31m<a href='command:jupyter.createPythonEnvAndSelectController'>Create a Python Environment</a> with the required packages."
     ]
    }
   ],
   "source": [
    "state_crime_totals_df = state_crime_totals.reset_index()\n",
    "\n",
    "plt.figure(figsize=(12,6))\n",
    "sns.barplot(data=state_crime_totals_df, x='state', y='crimes', hue='state', palette='viridis')\n",
    "plt.xticks(rotation = 90)\n",
    "plt.title('Total number of crime by state')\n",
    "plt.xlabel('state')\n",
    "plt.ylabel('number of crimes')\n",
    "plt.tight_layout()\n",
    "plt.show()\n",
    "\n",
    "top_state = state_crime_totals.idxmax()\n",
    "print(f\"state with the most number of crime: {top_state}\")"
   ]
  },
  {
   "cell_type": "markdown",
   "metadata": {},
   "source": [
    "#### Which `district` in the state has the highest number of crime?"
   ]
  },
  {
   "cell_type": "code",
   "execution_count": null,
   "metadata": {},
   "outputs": [],
   "source": [
    "district_crime_totals = df.groupby('district')['crimes'].sum().sort_values(ascending=False).head(10)\n",
    "district_crime_totals_df = district_crime_totals.reset_index()\n",
    "\n",
    "plt.figure(figsize=(12, 6))\n",
    "sns.barplot(data=district_crime_totals_df, x='district', y='crimes', hue='district', palette='viridis')\n",
    "plt.xticks(rotation= 20)\n",
    "plt.title('Top 10 Districts by Number of Crimes')\n",
    "plt.xlabel('District')\n",
    "plt.ylabel('Number of Crimes')\n",
    "plt.tight_layout()\n",
    "plt.show()\n",
    "\n",
    "top_district = district_crime_totals.idxmax()\n",
    "print(f\"District with the most number of crimes in {top_state}: {top_district}\")"
   ]
  },
  {
   "cell_type": "markdown",
   "metadata": {},
   "source": [
    "#### What `year` from the dataset has the highest number of crime in Malaysia?"
   ]
  },
  {
   "cell_type": "code",
   "execution_count": null,
   "metadata": {},
   "outputs": [],
   "source": [
    "yearly_crimes = df.groupby('date')['crimes'].sum().reset_index()\n",
    "yearly_crimes['date'] = pd.to_datetime(yearly_crimes['date']).dt.year\n",
    "\n",
    "plt.figure(figsize=(12, 6))\n",
    "sns.lineplot(data=yearly_crimes, x='date', y='crimes', marker='o', color='red')\n",
    "plt.title('Total Number of Crimes in Malaysia by Year')\n",
    "plt.xlabel('Year')\n",
    "plt.ylabel('Number of Crimes')\n",
    "plt.grid(True)\n",
    "plt.tight_layout()\n",
    "plt.show()\n",
    "\n",
    "year_with_most_crimes = yearly_crimes.loc[yearly_crimes['crimes'].idxmax(),'date']\n",
    "print(f\"The year with the highest number of crimes in Malaysia is: {year_with_most_crimes}\")"
   ]
  },
  {
   "cell_type": "markdown",
   "metadata": {},
   "source": [
    "### Plot a line graph to show the number and type of crime of each `state`. 4m"
   ]
  },
  {
   "cell_type": "code",
   "execution_count": null,
   "metadata": {},
   "outputs": [],
   "source": []
  },
  {
   "cell_type": "markdown",
   "metadata": {},
   "source": [
    "### Discuss and explain your observation. 2m"
   ]
  },
  {
   "cell_type": "code",
   "execution_count": null,
   "metadata": {},
   "outputs": [],
   "source": []
  },
  {
   "cell_type": "markdown",
   "metadata": {},
   "source": [
    "___\n",
    "## Question 2 [16 mark]\n",
    "You are provided with the `train.csv` as the dataset for this question.\n",
    "\n",
    "### Complete the tasks below:\n",
    "1. Perform exploratory data analysis on the dataset. 4m\n",
    "1. Perform clustering on the dataset with your choice of algorithm and visualise the clusters.  3m\n",
    "1. Train a model to predict the `Calories` based on the given attributes. Then, evaluate your model's performance with suitable measurement. 5m\n",
    "1. Improve the performance of your model. You are free to explore and use any method that improve performance. 2m\n",
    "1. Discuss and explain your observation. 2m"
   ]
  },
  {
   "cell_type": "markdown",
   "metadata": {},
   "source": [
    "### Load dataset"
   ]
  },
  {
   "cell_type": "code",
   "execution_count": 52,
   "metadata": {},
   "outputs": [
    {
     "data": {
      "text/html": [
       "<div>\n",
       "<style scoped>\n",
       "    .dataframe tbody tr th:only-of-type {\n",
       "        vertical-align: middle;\n",
       "    }\n",
       "\n",
       "    .dataframe tbody tr th {\n",
       "        vertical-align: top;\n",
       "    }\n",
       "\n",
       "    .dataframe thead th {\n",
       "        text-align: right;\n",
       "    }\n",
       "</style>\n",
       "<table border=\"1\" class=\"dataframe\">\n",
       "  <thead>\n",
       "    <tr style=\"text-align: right;\">\n",
       "      <th></th>\n",
       "      <th>id</th>\n",
       "      <th>Sex</th>\n",
       "      <th>Age</th>\n",
       "      <th>Height</th>\n",
       "      <th>Weight</th>\n",
       "      <th>Duration</th>\n",
       "      <th>Heart_Rate</th>\n",
       "      <th>Body_Temp</th>\n",
       "      <th>Calories</th>\n",
       "    </tr>\n",
       "  </thead>\n",
       "  <tbody>\n",
       "    <tr>\n",
       "      <th>0</th>\n",
       "      <td>0</td>\n",
       "      <td>male</td>\n",
       "      <td>36</td>\n",
       "      <td>189.0</td>\n",
       "      <td>82.0</td>\n",
       "      <td>26.0</td>\n",
       "      <td>101.0</td>\n",
       "      <td>41.0</td>\n",
       "      <td>150.0</td>\n",
       "    </tr>\n",
       "    <tr>\n",
       "      <th>1</th>\n",
       "      <td>1</td>\n",
       "      <td>female</td>\n",
       "      <td>64</td>\n",
       "      <td>163.0</td>\n",
       "      <td>60.0</td>\n",
       "      <td>8.0</td>\n",
       "      <td>85.0</td>\n",
       "      <td>39.7</td>\n",
       "      <td>34.0</td>\n",
       "    </tr>\n",
       "    <tr>\n",
       "      <th>2</th>\n",
       "      <td>2</td>\n",
       "      <td>female</td>\n",
       "      <td>51</td>\n",
       "      <td>161.0</td>\n",
       "      <td>64.0</td>\n",
       "      <td>7.0</td>\n",
       "      <td>84.0</td>\n",
       "      <td>39.8</td>\n",
       "      <td>29.0</td>\n",
       "    </tr>\n",
       "    <tr>\n",
       "      <th>3</th>\n",
       "      <td>3</td>\n",
       "      <td>male</td>\n",
       "      <td>20</td>\n",
       "      <td>192.0</td>\n",
       "      <td>90.0</td>\n",
       "      <td>25.0</td>\n",
       "      <td>105.0</td>\n",
       "      <td>40.7</td>\n",
       "      <td>140.0</td>\n",
       "    </tr>\n",
       "    <tr>\n",
       "      <th>4</th>\n",
       "      <td>4</td>\n",
       "      <td>female</td>\n",
       "      <td>38</td>\n",
       "      <td>166.0</td>\n",
       "      <td>61.0</td>\n",
       "      <td>25.0</td>\n",
       "      <td>102.0</td>\n",
       "      <td>40.6</td>\n",
       "      <td>146.0</td>\n",
       "    </tr>\n",
       "    <tr>\n",
       "      <th>...</th>\n",
       "      <td>...</td>\n",
       "      <td>...</td>\n",
       "      <td>...</td>\n",
       "      <td>...</td>\n",
       "      <td>...</td>\n",
       "      <td>...</td>\n",
       "      <td>...</td>\n",
       "      <td>...</td>\n",
       "      <td>...</td>\n",
       "    </tr>\n",
       "    <tr>\n",
       "      <th>749995</th>\n",
       "      <td>749995</td>\n",
       "      <td>male</td>\n",
       "      <td>28</td>\n",
       "      <td>193.0</td>\n",
       "      <td>97.0</td>\n",
       "      <td>30.0</td>\n",
       "      <td>114.0</td>\n",
       "      <td>40.9</td>\n",
       "      <td>230.0</td>\n",
       "    </tr>\n",
       "    <tr>\n",
       "      <th>749996</th>\n",
       "      <td>749996</td>\n",
       "      <td>female</td>\n",
       "      <td>64</td>\n",
       "      <td>165.0</td>\n",
       "      <td>63.0</td>\n",
       "      <td>18.0</td>\n",
       "      <td>92.0</td>\n",
       "      <td>40.5</td>\n",
       "      <td>96.0</td>\n",
       "    </tr>\n",
       "    <tr>\n",
       "      <th>749997</th>\n",
       "      <td>749997</td>\n",
       "      <td>male</td>\n",
       "      <td>60</td>\n",
       "      <td>162.0</td>\n",
       "      <td>67.0</td>\n",
       "      <td>29.0</td>\n",
       "      <td>113.0</td>\n",
       "      <td>40.9</td>\n",
       "      <td>221.0</td>\n",
       "    </tr>\n",
       "    <tr>\n",
       "      <th>749998</th>\n",
       "      <td>749998</td>\n",
       "      <td>male</td>\n",
       "      <td>45</td>\n",
       "      <td>182.0</td>\n",
       "      <td>91.0</td>\n",
       "      <td>17.0</td>\n",
       "      <td>102.0</td>\n",
       "      <td>40.3</td>\n",
       "      <td>109.0</td>\n",
       "    </tr>\n",
       "    <tr>\n",
       "      <th>749999</th>\n",
       "      <td>749999</td>\n",
       "      <td>female</td>\n",
       "      <td>39</td>\n",
       "      <td>171.0</td>\n",
       "      <td>65.0</td>\n",
       "      <td>19.0</td>\n",
       "      <td>97.0</td>\n",
       "      <td>40.6</td>\n",
       "      <td>103.0</td>\n",
       "    </tr>\n",
       "  </tbody>\n",
       "</table>\n",
       "<p>750000 rows × 9 columns</p>\n",
       "</div>"
      ],
      "text/plain": [
       "            id     Sex  Age  Height  Weight  Duration  Heart_Rate  Body_Temp   \n",
       "0            0    male   36   189.0    82.0      26.0       101.0       41.0  \\\n",
       "1            1  female   64   163.0    60.0       8.0        85.0       39.7   \n",
       "2            2  female   51   161.0    64.0       7.0        84.0       39.8   \n",
       "3            3    male   20   192.0    90.0      25.0       105.0       40.7   \n",
       "4            4  female   38   166.0    61.0      25.0       102.0       40.6   \n",
       "...        ...     ...  ...     ...     ...       ...         ...        ...   \n",
       "749995  749995    male   28   193.0    97.0      30.0       114.0       40.9   \n",
       "749996  749996  female   64   165.0    63.0      18.0        92.0       40.5   \n",
       "749997  749997    male   60   162.0    67.0      29.0       113.0       40.9   \n",
       "749998  749998    male   45   182.0    91.0      17.0       102.0       40.3   \n",
       "749999  749999  female   39   171.0    65.0      19.0        97.0       40.6   \n",
       "\n",
       "        Calories  \n",
       "0          150.0  \n",
       "1           34.0  \n",
       "2           29.0  \n",
       "3          140.0  \n",
       "4          146.0  \n",
       "...          ...  \n",
       "749995     230.0  \n",
       "749996      96.0  \n",
       "749997     221.0  \n",
       "749998     109.0  \n",
       "749999     103.0  \n",
       "\n",
       "[750000 rows x 9 columns]"
      ]
     },
     "metadata": {},
     "output_type": "display_data"
    }
   ],
   "source": [
    "df = pd.read_csv('train.csv')\n",
    "display(df)"
   ]
  },
  {
   "cell_type": "markdown",
   "metadata": {},
   "source": [
    "### EDA: 4m"
   ]
  },
  {
   "cell_type": "code",
   "execution_count": null,
   "metadata": {},
   "outputs": [],
   "source": []
  },
  {
   "cell_type": "markdown",
   "metadata": {},
   "source": [
    "### Clustering: 3m"
   ]
  },
  {
   "cell_type": "code",
   "execution_count": null,
   "metadata": {},
   "outputs": [],
   "source": []
  },
  {
   "cell_type": "markdown",
   "metadata": {},
   "source": [
    "### Regression: 5m"
   ]
  },
  {
   "cell_type": "code",
   "execution_count": null,
   "metadata": {},
   "outputs": [],
   "source": []
  },
  {
   "cell_type": "markdown",
   "metadata": {},
   "source": [
    "### Improve Performance: 2m"
   ]
  },
  {
   "cell_type": "code",
   "execution_count": null,
   "metadata": {},
   "outputs": [],
   "source": []
  },
  {
   "cell_type": "markdown",
   "metadata": {},
   "source": [
    "### Discussions: 2m"
   ]
  },
  {
   "cell_type": "code",
   "execution_count": null,
   "metadata": {},
   "outputs": [],
   "source": []
  },
  {
   "cell_type": "markdown",
   "metadata": {},
   "source": [
    "## Plagiarism\n",
    "It is fine to seek help from friends or from online resources when you do the assignment, However,\n",
    "seeking help should not go overboard, to the point of getting (or even paying) someone to\n",
    "complete the assignment partly or fully for you, copying from online resources without\n",
    "understanding, or doing any means with the intention to cheat. \n",
    "\n",
    "For this assignment, plagiarism\n",
    "means the following:\n",
    "(a) Turning in a work that, from the examiner’s point of view, you do not sufficiently understand.\n",
    "(b) Turning in someone else’s work (whether partly or fully) as your own.\n",
    "(c) To use another’s work (whether partly or fully) without crediting the source.\n",
    "(d) Any means of cheating.\n",
    "\n",
    "**Plagiarism is a serious offence.**\n",
    "\n",
    "**We will give ZERO (0) marks to students who plagiarize AND to students who intentionally or\n",
    "unintentionally help other students to plagiarize by giving all or some of their code.**"
   ]
  },
  {
   "cell_type": "markdown",
   "metadata": {},
   "source": [
    "\n",
    "\n",
    "## Submit\n",
    "All submission via EbWise/OneDrive according to your tutorial section (check with your tutor where to submit).\n",
    "\n",
    "**Name your Lab Exercise file accordingly.** \\\n",
    "Ensure your `.ipynb` file is properly named. Double check all group members' ID, name, and contribution before submission. All group members must agree to the submitted contribution.\n",
    "\n",
    "### <font color='red'>Deadline: 15<sup>th</sup> June 2025 (Sunday), 11.59pm.</font>"
   ]
  },
  {
   "cell_type": "code",
   "execution_count": null,
   "metadata": {},
   "outputs": [],
   "source": []
  }
 ],
 "metadata": {
  "anaconda-cloud": {},
  "coursera": {
   "course_slug": "python-data-analysis",
   "graded_item_id": "tHmgx",
   "launcher_item_id": "Um6Bz",
   "part_id": "OQsnr"
  },
  "kernelspec": {
   "display_name": "Python 3",
   "language": "python",
   "name": "python3"
  },
  "language_info": {
   "codemirror_mode": {
    "name": "ipython",
    "version": 3
   },
   "file_extension": ".py",
   "mimetype": "text/x-python",
   "name": "python",
   "nbconvert_exporter": "python",
   "pygments_lexer": "ipython3",
   "version": "3.12.7"
  }
 },
 "nbformat": 4,
 "nbformat_minor": 4
}
